{
 "cells": [
  {
   "cell_type": "code",
   "execution_count": 1,
   "metadata": {},
   "outputs": [],
   "source": [
    "import gym\n",
    "from baselines import deepq\n",
    "from baselines import bench\n",
    "from baselines import logger\n",
    "from baselines.common.atari_wrappers import make_atari\n",
    "from baselines.common.atari_wrappers import LazyFrames"
   ]
  },
  {
   "cell_type": "markdown",
   "metadata": {},
   "source": [
    "# Add noice v1"
   ]
  },
  {
   "cell_type": "code",
   "execution_count": 11,
   "metadata": {},
   "outputs": [
    {
     "name": "stdout",
     "output_type": "stream",
     "text": [
      "execution:  0.013010978698730469 seconds\n"
     ]
    },
    {
     "data": {
      "image/png": "[encoded data removed]",
      "text/plain": [
       "<Figure size 432x288 with 1 Axes>"
      ]
     },
     "metadata": {
      "needs_background": "light"
     },
     "output_type": "display_data"
    }
   ],
   "source": [
    "import datetime\n",
    "import numpy as np\n",
    "import random\n",
    "import cv2\n",
    "import matplotlib.pyplot as plt\n",
    "import time\n",
    "\n",
    "%matplotlib inline\n",
    "\n",
    "def sp_noise(image, prob):\n",
    "    '''\n",
    "    Add salt and pepper noise to image\n",
    "    prob: Probability of the noise\n",
    "    '''\n",
    "    output = np.zeros(image.shape,np.uint8)\n",
    "    thres = 1 - prob \n",
    "    for i in range(image.shape[0]):\n",
    "        for j in range(image.shape[1]):\n",
    "            rdn = random.random()\n",
    "            if rdn < prob:\n",
    "                output[i][j] = 0\n",
    "            elif rdn > thres:\n",
    "                output[i][j] = 255\n",
    "            else:\n",
    "                output[i][j] = image[i][j]\n",
    "    return output\n",
    "    \n",
    "# image = cv2.imread('pong.jpg')\n",
    "# for i in range(1000000):\n",
    "#     noise_img = sp_noise(image, 0.005)\n",
    "#     if i%1000 == 0:\n",
    "#         print(i, datetime.datetime.now().time())\n",
    "\n",
    "    \n",
    "image = cv2.imread('messigray.png')\n",
    "\n",
    "start = time.time()\n",
    "noise_img = sp_noise(image, 0.005)\n",
    "end = time.time()\n",
    "print('execution: ', end - start, 'seconds')\n",
    "\n",
    "cv2.imwrite('sp_noise.jpg', noise_img)\n",
    "#plt.imshow(image[:,:,::-1])\n",
    "#plt.show()\n",
    "\n",
    "plt.imshow(noise_img[:,:,::-1])\n",
    "plt.show()"
   ]
  },
  {
   "cell_type": "code",
   "execution_count": 27,
   "metadata": {},
   "outputs": [
    {
     "name": "stdout",
     "output_type": "stream",
     "text": [
      "(84, 84)\n"
     ]
    },
    {
     "data": {
      "image/png": "[encoded data removed]",
      "text/plain": [
       "<Figure size 432x288 with 1 Axes>"
      ]
     },
     "metadata": {
      "needs_background": "light"
     },
     "output_type": "display_data"
    },
    {
     "data": {
      "image/png": "[encoded data removed]",
      "text/plain": [
       "<Figure size 432x288 with 1 Axes>"
      ]
     },
     "metadata": {
      "needs_background": "light"
     },
     "output_type": "display_data"
    }
   ],
   "source": [
    "def show_random_env():\n",
    "    env = make_atari('PongNoFrameskip-v4')\n",
    "    env = deepq.wrap_atari_dqn(env)\n",
    "\n",
    "    obs = env.reset()\n",
    "    for i in range(15):\n",
    "        obs, rew, done, _ = env.step(1)\n",
    "    img = np.array(obs[None])[:,:,1].reshape((84,84))\n",
    "    print(img.shape)\n",
    "    plt.imshow(img)\n",
    "    cv2.imwrite('messigray.png',img)\n",
    "    plt.show()\n",
    "\n",
    "    obs_noice = sp_noise(img, 0.005)\n",
    "    plt.imshow(obs_noice)\n",
    "    plt.show()\n",
    "    \n",
    "show_random_env()"
   ]
  },
  {
   "cell_type": "markdown",
   "metadata": {},
   "source": [
    "# Add noice v2"
   ]
  },
  {
   "cell_type": "code",
   "execution_count": 4,
   "metadata": {},
   "outputs": [
    {
     "name": "stdout",
     "output_type": "stream",
     "text": [
      "number or runs 10000\n",
      "average duration: 0.00032285914421081543 seconds\n",
      "median duration:  0.00023698806762695312 seconds\n",
      "test reshaping, execution:  5.9604644775390625e-06 seconds\n"
     ]
    }
   ],
   "source": [
    "from PIL import Image\n",
    "import numpy as np\n",
    "import time\n",
    "\n",
    "def add_noise(image, paper_threshold, salt_threshold):\n",
    "    w, h = image.shape\n",
    "    random_paper = np.random.rand(w, h)\n",
    "    random_salt = np.random.rand(w, h)\n",
    "    image[random_paper < paper_threshold] = 0\n",
    "    image[random_salt < salt_threshold] = 255\n",
    "    return image\n",
    "\n",
    "def add_noise_frames(lazy_frames, paper_threshold, salt_threshold):\n",
    "    images = []\n",
    "    for image in lazy_frames._frames:\n",
    "        output = add_noise(image.reshape((84, 84)), paper_threshold, salt_threshold)\n",
    "        images.append(output.reshape((84, 84, 1)))\n",
    "    \n",
    "    return LazyFrames(list(images))\n",
    "\n",
    "def add_noise_t(image, paper_threshold, salt_threshold):\n",
    "    w, h = image.size\n",
    "    pixels = np.array(image)\n",
    "    random_paper = np.random.rand(w, h)\n",
    "    random_salt = np.random.rand(w, h)\n",
    "    pixels[random_paper < paper_threshold] = 0\n",
    "    pixels[random_salt < salt_threshold] = 255\n",
    "    return Image.fromarray(pixels)\n",
    "\n",
    "def test_add_noise():\n",
    "    n = 10000\n",
    "    avg_agg = 0\n",
    "    median_agg = []\n",
    "    image = Image.open(\"messigray.png\")\n",
    "    for i in range(n):\n",
    "        start = time.time()\n",
    "        noisy = add_noise_t(image, 0.01, 0.01)\n",
    "        duration = time.time() - start\n",
    "        avg_agg += duration\n",
    "        median_agg.append(duration)\n",
    "    noisy.save(\"out.png\")\n",
    "    avg = avg_agg / n\n",
    "    median_agg.sort()\n",
    "    print(\"number or runs\", n)\n",
    "    print(\"average duration:\", avg, \"seconds\")\n",
    "    print(\"median duration: \", median_agg[n // 2], \"seconds\")\n",
    "    \n",
    "    # test performance for reshaping\n",
    "    env = make_atari('PongNoFrameskip-v4')\n",
    "    env = deepq.wrap_atari_dqn(env)\n",
    "    obs = env.reset()\n",
    "    \n",
    "    start = time.time()\n",
    "\n",
    "    a = obs._frames[0]\n",
    "    a.reshape((84, 84))\n",
    "    a.reshape((84, 84,1))\n",
    "\n",
    "    end = time.time()\n",
    "    print('test reshaping, execution: ', end - start, 'seconds')\n",
    "    \n",
    "test_add_noise()"
   ]
  },
  {
   "cell_type": "markdown",
   "metadata": {},
   "source": [
    "# Train and Test"
   ]
  },
  {
   "cell_type": "code",
   "execution_count": 9,
   "metadata": {},
   "outputs": [],
   "source": [
    "import tensorflow as tf\n",
    "from baselines.common.tf_util import get_session\n",
    "\n",
    "def clean_session_fix():\n",
    "    get_session().close()\n",
    "    tf.reset_default_graph() "
   ]
  },
  {
   "cell_type": "code",
   "execution_count": 12,
   "metadata": {},
   "outputs": [],
   "source": [
    "def play_pong():\n",
    "    logger.configure()\n",
    "    env = make_atari('PongNoFrameskip-v4')\n",
    "    env = bench.Monitor(env, logger.get_dir())\n",
    "    env = deepq.wrap_atari_dqn(env)\n",
    "\n",
    "    model = deepq.learn(\n",
    "        env,\n",
    "        \"conv_only\",\n",
    "        convs=[(32, 8, 4), (64, 4, 2), (64, 3, 1)],\n",
    "        hiddens=[256],\n",
    "        dueling=True,\n",
    "        total_timesteps=0,\n",
    "        load_path=\"models/pong_model_r.pkl\"  \n",
    "    )\n",
    "\n",
    "    while True:\n",
    "        obs, done = env.reset(), False\n",
    "        episode_rew = 0\n",
    "        while not done:\n",
    "            env.render()\n",
    "            #start = time.time()\n",
    "            obs_noice = add_noise_frames(obs, 0.005, 0.005)\n",
    "            # end = time.time()\n",
    "            # print('test reshaping, execution: ', end - start, 'seconds')\n",
    "            \n",
    "            obs, rew, done, _ = env.step(model(obs_noice[None])[0])\n",
    "            episode_rew += rew\n",
    "        print(\"Episode reward\", episode_rew)\n",
    "\n",
    "def test_play_pong(use_noice=False, model_name='models/pong_model_d.pkl', \n",
    "                   number_of_runs = 10, show_render = False):\n",
    "    env = make_atari('PongNoFrameskip-v4')\n",
    "    env = deepq.wrap_atari_dqn(env)\n",
    "\n",
    "    model = deepq.learn(\n",
    "        env,\n",
    "        \"conv_only\",\n",
    "        convs=[(32, 8, 4), (64, 4, 2), (64, 3, 1)],\n",
    "        hiddens=[256],\n",
    "        dueling=True,\n",
    "        total_timesteps=0,\n",
    "        load_path=model_name  \n",
    "    )\n",
    "\n",
    "    rewards = []\n",
    "    for i in range(number_of_runs):\n",
    "        obs, done = env.reset(), False\n",
    "        episode_rew = 0\n",
    "        while not done:\n",
    "            if show_render:\n",
    "                env.render()\n",
    "            \n",
    "            #start = time.time()\n",
    "            obs_updated = obs\n",
    "            if use_noice:\n",
    "                obs_updated = add_noise_frames(obs, 0.005, 0.005)\n",
    "            # end = time.time()\n",
    "            # print('test reshaping, execution: ', end - start, 'seconds')\n",
    "            \n",
    "            obs, rew, done, _ = env.step(model(obs_updated[None])[0])\n",
    "            episode_rew += rew\n",
    "        rewards.append(episode_rew)\n",
    "        # print(datetime.datetime.now().time(), i, episode_rew)\n",
    "        \n",
    "    return np.mean(rewards)"
   ]
  },
  {
   "cell_type": "code",
   "execution_count": 10,
   "metadata": {},
   "outputs": [
    {
     "name": "stdout",
     "output_type": "stream",
     "text": [
      "WARNING:tensorflow:From /Users/odats/Documents/Projects/uku/uku-ml-project/baselines/baselines/common/input.py:57: to_float (from tensorflow.python.ops.math_ops) is deprecated and will be removed in a future version.\n",
      "Instructions for updating:\n",
      "Use tf.cast instead.\n",
      "WARNING:tensorflow:From /Users/odats/Documents/Projects/uku/uku-ml-project/openai_env/lib/python3.7/site-packages/tensorflow/python/framework/op_def_library.py:263: colocate_with (from tensorflow.python.framework.ops) is deprecated and will be removed in a future version.\n",
      "Instructions for updating:\n",
      "Colocations handled automatically by placer.\n",
      "WARNING:tensorflow:From /Users/odats/Documents/Projects/uku/uku-ml-project/openai_env/lib/python3.7/site-packages/tensorflow/contrib/layers/python/layers/layers.py:1624: flatten (from tensorflow.python.layers.core) is deprecated and will be removed in a future version.\n",
      "Instructions for updating:\n",
      "Use keras.layers.flatten instead.\n",
      "WARNING:tensorflow:From /Users/odats/Documents/Projects/uku/uku-ml-project/openai_env/lib/python3.7/site-packages/tensorflow/python/ops/math_ops.py:3066: to_int32 (from tensorflow.python.ops.math_ops) is deprecated and will be removed in a future version.\n",
      "Instructions for updating:\n",
      "Use tf.cast instead.\n",
      "Logging to /var/folders/bk/wyc4h4vd6cvd247fghhsptbc0000gn/T/openai-2019-05-05-13-47-01-247527\n",
      "Loaded model from models/pong_model_d.pkl\n",
      "DD 18.5\n",
      "Loaded model from models/pong_model_d.pkl\n",
      "DR -20.3\n",
      "Loaded model from models/pong_model_r.pkl\n",
      "RD 18.1\n",
      "Loaded model from models/pong_model_r.pkl\n",
      "RR 17.7\n"
     ]
    }
   ],
   "source": [
    "clean_session_fix()\n",
    "avg_reward = test_play_pong(False, \"models/pong_model_d.pkl\")\n",
    "print('DD', avg_reward)\n",
    "\n",
    "clean_session_fix()\n",
    "avg_reward = test_play_pong(True, \"models/pong_model_d.pkl\")\n",
    "print('DR', avg_reward)\n",
    "\n",
    "clean_session_fix()\n",
    "avg_reward = test_play_pong(False, \"models/pong_model_r.pkl\")\n",
    "print('RD', avg_reward)\n",
    "\n",
    "clean_session_fix()\n",
    "avg_reward = test_play_pong(True, \"models/pong_model_r.pkl\")\n",
    "print('RR', avg_reward)"
   ]
  },
  {
   "cell_type": "code",
   "execution_count": 33,
   "metadata": {},
   "outputs": [
    {
     "name": "stdout",
     "output_type": "stream",
     "text": [
      "Loaded model from models/pong_model_d.pkl\n"
     ]
    },
    {
     "data": {
      "text/plain": [
       "-20.0"
      ]
     },
     "execution_count": 33,
     "metadata": {},
     "output_type": "execute_result"
    }
   ],
   "source": [
    "clean_session_fix() \n",
    "test_play_pong(True, \"models/pong_model_d.pkl\", 1, True)"
   ]
  },
  {
   "cell_type": "code",
   "execution_count": null,
   "metadata": {},
   "outputs": [],
   "source": []
  },
  {
   "cell_type": "code",
   "execution_count": null,
   "metadata": {},
   "outputs": [],
   "source": [
    "\n",
    "    "
   ]
  },
  {
   "cell_type": "code",
   "execution_count": null,
   "metadata": {},
   "outputs": [],
   "source": []
  },
  {
   "cell_type": "code",
   "execution_count": null,
   "metadata": {},
   "outputs": [],
   "source": []
  }
 ],
 "metadata": {
  "kernelspec": {
   "display_name": "Python 3",
   "language": "python",
   "name": "python3"
  },
  "language_info": {
   "codemirror_mode": {
    "name": "ipython",
    "version": 3
   },
   "file_extension": ".py",
   "mimetype": "text/x-python",
   "name": "python",
   "nbconvert_exporter": "python",
   "pygments_lexer": "ipython3",
   "version": "3.7.1"
  }
 },
 "nbformat": 4,
 "nbformat_minor": 2
}
