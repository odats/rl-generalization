{
 "cells": [
  {
   "cell_type": "code",
   "execution_count": 1,
   "metadata": {},
   "outputs": [],
   "source": [
    "from baselines import deepq\n",
    "from baselines import bench\n",
    "from baselines import logger\n",
    "from baselines.common.atari_wrappers import make_atari\n",
    "\n",
    "def callback(lcl, _glb):\n",
    "    # stop training if reward exceeds 199\n",
    "    is_solved = lcl['t'] > 100 and sum(lcl['episode_rewards'][-101:-1]) / 100 >= 10\n",
    "    return is_solved\n",
    "\n",
    "\n",
    "def main():\n",
    "    logger.configure()\n",
    "    env = make_atari('PongNoFrameskip-v4')\n",
    "    env = bench.Monitor(env, logger.get_dir())\n",
    "    env = deepq.wrap_atari_dqn(env)\n",
    "\n",
    "    model = deepq.learn(\n",
    "        env,\n",
    "        \"conv_only\",\n",
    "        convs=[(32, 8, 4), (64, 4, 2), (64, 3, 1)],\n",
    "        hiddens=[256],\n",
    "        dueling=True,\n",
    "        lr=1e-4,\n",
    "        total_timesteps=int(1e7),\n",
    "        buffer_size=10000,\n",
    "        exploration_fraction=0.1,\n",
    "        exploration_final_eps=0.01,\n",
    "        train_freq=4,\n",
    "        learning_starts=10000,\n",
    "        target_network_update_freq=1000,\n",
    "        gamma=0.99,\n",
    "        checkpoint_path=\"pong\",\n",
    "        print_freq=10,\n",
    "        callback=callback\n",
    "    )\n",
    "    \n",
    "    print(\"Saving model to pong_model.pkl\")\n",
    "    model.save('pong_model.pkl')\n",
    "    env.close()\n"
   ]
  },
  {
   "cell_type": "code",
   "execution_count": null,
   "metadata": {},
   "outputs": [],
   "source": []
  },
  {
   "cell_type": "code",
   "execution_count": 2,
   "metadata": {},
   "outputs": [],
   "source": [
    "# https://github.com/openai/baselines/blob/master/baselines/deepq/deepq.py\n",
    "\n",
    "from baselines.common.atari_wrappers import LazyFrames\n",
    "import numpy as np\n",
    "import random\n",
    "\n",
    "def sp_noise(lazy_frames, prob):\n",
    "    '''\n",
    "    Add salt and pepper noise to image\n",
    "    prob: Probability of the noise\n",
    "    '''\n",
    "    images = []\n",
    "    for image in lazy_frames._frames:\n",
    "        output = np.zeros(image.shape,np.uint8)\n",
    "        thres = 1 - prob\n",
    "        for i in range(image.shape[0]):\n",
    "            for j in range(image.shape[1]):\n",
    "                rdn = random.random()\n",
    "                if rdn < prob:\n",
    "                    output[i][j] = 0\n",
    "                elif rdn > thres:\n",
    "                    output[i][j] = 255\n",
    "                else:\n",
    "                    output[i][j] = image[i][j]\n",
    "        images.append(output)\n",
    "    \n",
    "    return LazyFrames(list(images))"
   ]
  },
  {
   "cell_type": "code",
   "execution_count": 3,
   "metadata": {},
   "outputs": [],
   "source": [
    "import gym\n",
    "from baselines import deepq\n",
    "\n",
    "\n",
    "def callback(lcl, _glb):\n",
    "    # stop training if reward exceeds 199\n",
    "    is_solved = lcl['t'] > 100 and sum(lcl['episode_rewards'][-101:-1]) / 100 >= 199\n",
    "    return is_solved\n",
    "\n",
    "\n",
    "def train_cartpole():\n",
    "    env = gym.make(\"CartPole-v0\")\n",
    "    act = deepq.learn(\n",
    "        env,\n",
    "        network='mlp',\n",
    "        lr=1e-3,\n",
    "        total_timesteps=100000,\n",
    "        buffer_size=50000,\n",
    "        exploration_fraction=0.1,\n",
    "        exploration_final_eps=0.02,\n",
    "        checkpoint_path=\"cartpole\",\n",
    "        print_freq=10,\n",
    "        callback=callback\n",
    "    )\n",
    "    print(\"Saving model to cartpole_model.pkl\")\n",
    "    act.save(\"cartpole_model.pkl\")"
   ]
  },
  {
   "cell_type": "code",
   "execution_count": 5,
   "metadata": {},
   "outputs": [],
   "source": [
    "#train_cartpole()"
   ]
  },
  {
   "cell_type": "code",
   "execution_count": null,
   "metadata": {},
   "outputs": [],
   "source": [
    "import sys\n",
    "sys.path.append('rl-generalization')\n",
    "import sunblaze_envs"
   ]
  },
  {
   "cell_type": "code",
   "execution_count": 8,
   "metadata": {},
   "outputs": [
    {
     "ename": "ModuleNotFoundError",
     "evalue": "No module named 'sunblaze_envs'",
     "output_type": "error",
     "traceback": [
      "\u001b[0;31m---------------------------------------------------------------------------\u001b[0m",
      "\u001b[0;31mModuleNotFoundError\u001b[0m                       Traceback (most recent call last)",
      "\u001b[0;32m<ipython-input-8-f6725ccd11c8>\u001b[0m in \u001b[0;36m<module>\u001b[0;34m\u001b[0m\n\u001b[1;32m      1\u001b[0m \u001b[0;32mimport\u001b[0m \u001b[0mgym\u001b[0m\u001b[0;34m\u001b[0m\u001b[0;34m\u001b[0m\u001b[0m\n\u001b[0;32m----> 2\u001b[0;31m \u001b[0;32mimport\u001b[0m \u001b[0msunblaze_envs\u001b[0m\u001b[0;34m\u001b[0m\u001b[0;34m\u001b[0m\u001b[0m\n\u001b[0m\u001b[1;32m      3\u001b[0m \u001b[0;34m\u001b[0m\u001b[0m\n\u001b[1;32m      4\u001b[0m \u001b[0;31m# Deterministic: the default version with fixed parameters\u001b[0m\u001b[0;34m\u001b[0m\u001b[0;34m\u001b[0m\u001b[0;34m\u001b[0m\u001b[0m\n\u001b[1;32m      5\u001b[0m \u001b[0mfixed_env\u001b[0m \u001b[0;34m=\u001b[0m \u001b[0msunblaze_envs\u001b[0m\u001b[0;34m.\u001b[0m\u001b[0mmake\u001b[0m\u001b[0;34m(\u001b[0m\u001b[0;34m'SunblazeCartPole-v0'\u001b[0m\u001b[0;34m)\u001b[0m\u001b[0;34m\u001b[0m\u001b[0;34m\u001b[0m\u001b[0m\n",
      "\u001b[0;31mModuleNotFoundError\u001b[0m: No module named 'sunblaze_envs'"
     ]
    }
   ],
   "source": [
    "import gym\n",
    "import sunblaze_envs\n",
    "\n",
    "# Deterministic: the default version with fixed parameters\n",
    "fixed_env = sunblaze_envs.make('SunblazeCartPole-v0')\n",
    "\n",
    "# Random: parameters are sampled from a range nearby the default settings\n",
    "random_env = sunblaze_envs.make('SunblazeCartPoleRandomNormal-v0')\n",
    "\n",
    "# Extreme: parameters are sampled from an `extreme' range\n",
    "extreme_env = sunblaze_envs.make('SunblazeCartPoleRandomExtreme-v0')"
   ]
  },
  {
   "cell_type": "code",
   "execution_count": 9,
   "metadata": {},
   "outputs": [],
   "source": [
    "def callback(lcl, _glb):\n",
    "    # stop training if reward exceeds 199\n",
    "    is_solved = lcl['t'] > 100 and sum(lcl['episode_rewards'][-101:-1]) / 100 >= 199\n",
    "    return is_solved\n",
    "\n",
    "\n",
    "def train_cartpole_random():\n",
    "    env = sunblaze_envs.make('SunblazeCartPole-v0')\n",
    "    act = deepq.learn(\n",
    "        env,\n",
    "        network='mlp',\n",
    "        lr=1e-3,\n",
    "        total_timesteps=100000,\n",
    "        buffer_size=50000,\n",
    "        exploration_fraction=0.1,\n",
    "        exploration_final_eps=0.02,\n",
    "        checkpoint_path=\"cartpole\",\n",
    "        print_freq=10,\n",
    "        callback=callback\n",
    "    )\n",
    "    print(\"Saving model to cartpole_model.pkl\")\n",
    "    act.save(\"cartpole_model.pkl\")"
   ]
  },
  {
   "cell_type": "code",
   "execution_count": 10,
   "metadata": {},
   "outputs": [
    {
     "ename": "NameError",
     "evalue": "name 'sunblaze_envs' is not defined",
     "output_type": "error",
     "traceback": [
      "\u001b[0;31m---------------------------------------------------------------------------\u001b[0m",
      "\u001b[0;31mNameError\u001b[0m                                 Traceback (most recent call last)",
      "\u001b[0;32m<ipython-input-10-5f1049641ef2>\u001b[0m in \u001b[0;36m<module>\u001b[0;34m\u001b[0m\n\u001b[0;32m----> 1\u001b[0;31m \u001b[0mtrain_cartpole_random\u001b[0m\u001b[0;34m(\u001b[0m\u001b[0;34m)\u001b[0m\u001b[0;34m\u001b[0m\u001b[0;34m\u001b[0m\u001b[0m\n\u001b[0m",
      "\u001b[0;32m<ipython-input-9-38013f71d5c3>\u001b[0m in \u001b[0;36mtrain_cartpole_random\u001b[0;34m()\u001b[0m\n\u001b[1;32m      6\u001b[0m \u001b[0;34m\u001b[0m\u001b[0m\n\u001b[1;32m      7\u001b[0m \u001b[0;32mdef\u001b[0m \u001b[0mtrain_cartpole_random\u001b[0m\u001b[0;34m(\u001b[0m\u001b[0;34m)\u001b[0m\u001b[0;34m:\u001b[0m\u001b[0;34m\u001b[0m\u001b[0;34m\u001b[0m\u001b[0m\n\u001b[0;32m----> 8\u001b[0;31m     \u001b[0menv\u001b[0m \u001b[0;34m=\u001b[0m \u001b[0msunblaze_envs\u001b[0m\u001b[0;34m.\u001b[0m\u001b[0mmake\u001b[0m\u001b[0;34m(\u001b[0m\u001b[0;34m'SunblazeCartPole-v0'\u001b[0m\u001b[0;34m)\u001b[0m\u001b[0;34m\u001b[0m\u001b[0;34m\u001b[0m\u001b[0m\n\u001b[0m\u001b[1;32m      9\u001b[0m     act = deepq.learn(\n\u001b[1;32m     10\u001b[0m         \u001b[0menv\u001b[0m\u001b[0;34m,\u001b[0m\u001b[0;34m\u001b[0m\u001b[0;34m\u001b[0m\u001b[0m\n",
      "\u001b[0;31mNameError\u001b[0m: name 'sunblaze_envs' is not defined"
     ]
    }
   ],
   "source": [
    "train_cartpole_random()"
   ]
  },
  {
   "cell_type": "code",
   "execution_count": null,
   "metadata": {},
   "outputs": [],
   "source": []
  }
 ],
 "metadata": {
  "kernelspec": {
   "display_name": "Python 3",
   "language": "python",
   "name": "python3"
  },
  "language_info": {
   "codemirror_mode": {
    "name": "ipython",
    "version": 3
   },
   "file_extension": ".py",
   "mimetype": "text/x-python",
   "name": "python",
   "nbconvert_exporter": "python",
   "pygments_lexer": "ipython3",
   "version": "3.7.1"
  }
 },
 "nbformat": 4,
 "nbformat_minor": 2
}
